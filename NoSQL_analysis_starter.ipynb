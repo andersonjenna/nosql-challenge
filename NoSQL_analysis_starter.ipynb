{
 "cells": [
  {
   "cell_type": "markdown",
   "id": "9a57c4c6",
   "metadata": {},
   "source": [
    "# Eat Safe, Love"
   ]
  },
  {
   "cell_type": "markdown",
   "id": "064ef857",
   "metadata": {},
   "source": [
    "## Notebook Set Up"
   ]
  },
  {
   "cell_type": "code",
   "execution_count": 4,
   "id": "3ecdd008",
   "metadata": {},
   "outputs": [],
   "source": [
    "from pymongo import MongoClient\n",
    "import pandas as pd\n",
    "from pprint import pprint"
   ]
  },
  {
   "cell_type": "code",
   "execution_count": 5,
   "id": "59390c4a",
   "metadata": {},
   "outputs": [],
   "source": [
    "# Create an instance of MongoClient\n",
    "mongo = MongoClient(port=27017)"
   ]
  },
  {
   "cell_type": "code",
   "execution_count": 6,
   "id": "71e373c1",
   "metadata": {},
   "outputs": [],
   "source": [
    "# assign the uk_food database to a variable name\n",
    "db = mongo['uk_food']"
   ]
  },
  {
   "cell_type": "code",
   "execution_count": 7,
   "id": "18ab463c",
   "metadata": {},
   "outputs": [],
   "source": [
    "# review the collections in our database\n"
   ]
  },
  {
   "cell_type": "code",
   "execution_count": 8,
   "id": "11c9f11b",
   "metadata": {},
   "outputs": [],
   "source": [
    "# assign the collection to a variable\n",
    "establishments = db['establishments']"
   ]
  },
  {
   "cell_type": "markdown",
   "id": "d5671434",
   "metadata": {},
   "source": [
    "## Part 3: Exploratory Analysis\n",
    "Unless otherwise stated, for each question: \n",
    "* Use `count_documents` to display the number of documents contained in the result.\n",
    "* Display the first document in the results using `pprint`.\n",
    "* Convert the result to a Pandas DataFrame, print the number of rows in the DataFrame, and display the first 10 rows."
   ]
  },
  {
   "cell_type": "markdown",
   "id": "314bd884",
   "metadata": {},
   "source": [
    "### 1. Which establishments have a hygiene score equal to 20?"
   ]
  },
  {
   "cell_type": "code",
   "execution_count": 13,
   "id": "c2da7648",
   "metadata": {},
   "outputs": [
    {
     "ename": "IndexError",
     "evalue": "no such item for Cursor instance",
     "output_type": "error",
     "traceback": [
      "\u001b[1;31m---------------------------------------------------------------------------\u001b[0m",
      "\u001b[1;31mIndexError\u001b[0m                                Traceback (most recent call last)",
      "Cell \u001b[1;32mIn[13], line 9\u001b[0m\n\u001b[0;32m      6\u001b[0m hygiene_20_count \u001b[38;5;241m=\u001b[39m establishments\u001b[38;5;241m.\u001b[39mcount_documents(hygiene_20_query)\n\u001b[0;32m      8\u001b[0m \u001b[38;5;66;03m# Display the first document in the results using pprint\u001b[39;00m\n\u001b[1;32m----> 9\u001b[0m first_hygiene_20 \u001b[38;5;241m=\u001b[39m hygiene_20_establishments[\u001b[38;5;241m0\u001b[39m]\n\u001b[0;32m     10\u001b[0m pprint(first_hygiene_20)\n",
      "File \u001b[1;32m~\\Python\\Lib\\site-packages\\pymongo\\cursor.py:757\u001b[0m, in \u001b[0;36mCursor.__getitem__\u001b[1;34m(self, index)\u001b[0m\n\u001b[0;32m    755\u001b[0m     \u001b[38;5;28;01mfor\u001b[39;00m doc \u001b[38;5;129;01min\u001b[39;00m clone:\n\u001b[0;32m    756\u001b[0m         \u001b[38;5;28;01mreturn\u001b[39;00m doc\n\u001b[1;32m--> 757\u001b[0m     \u001b[38;5;28;01mraise\u001b[39;00m \u001b[38;5;167;01mIndexError\u001b[39;00m(\u001b[38;5;124m\"\u001b[39m\u001b[38;5;124mno such item for Cursor instance\u001b[39m\u001b[38;5;124m\"\u001b[39m)\n\u001b[0;32m    758\u001b[0m \u001b[38;5;28;01mraise\u001b[39;00m \u001b[38;5;167;01mTypeError\u001b[39;00m(\u001b[38;5;124m\"\u001b[39m\u001b[38;5;124mindex \u001b[39m\u001b[38;5;132;01m%r\u001b[39;00m\u001b[38;5;124m cannot be applied to Cursor instances\u001b[39m\u001b[38;5;124m\"\u001b[39m \u001b[38;5;241m%\u001b[39m index)\n",
      "\u001b[1;31mIndexError\u001b[0m: no such item for Cursor instance"
     ]
    }
   ],
   "source": [
    "# Find the establishments with a hygiene score of 20\n",
    "hygiene_20_query ={\"scores.Hygiene\": 20}\n",
    "hygiene_20_establishments = establishments.find(hygiene_20_query)\n",
    "\n",
    "# Use count_documents to display the number of documents in the result\n",
    "hygiene_20_count = establishments.count_documents(hygiene_20_query)\n",
    "\n",
    "# Display the first document in the results using pprint\n",
    "first_hygiene_20 = hygiene_20_establishments[0]\n",
    "pprint(first_hygiene_20)\n"
   ]
  },
  {
   "cell_type": "code",
   "execution_count": 14,
   "id": "a6e5cece",
   "metadata": {},
   "outputs": [
    {
     "name": "stdout",
     "output_type": "stream",
     "text": [
      "Empty DataFrame\n",
      "Columns: []\n",
      "Index: []\n"
     ]
    }
   ],
   "source": [
    "# Convert the result to a Pandas DataFrame\n",
    "import pandas as pd\n",
    "\n",
    "# Display the number of rows in the DataFrame\n",
    "hygiene_20_df = pd.DataFrame(list(hygiene_20_establishments))\n",
    "\n",
    "# Display the first 10 rows of the DataFrame\n",
    "print(hygiene_20_df.head(10))"
   ]
  },
  {
   "cell_type": "markdown",
   "id": "0ef4395a",
   "metadata": {},
   "source": [
    "### 2. Which establishments in London have a `RatingValue` greater than or equal to 4?"
   ]
  },
  {
   "cell_type": "code",
   "execution_count": 15,
   "id": "93c63829",
   "metadata": {},
   "outputs": [
    {
     "ename": "StopIteration",
     "evalue": "",
     "output_type": "error",
     "traceback": [
      "\u001b[1;31m---------------------------------------------------------------------------\u001b[0m",
      "\u001b[1;31mStopIteration\u001b[0m                             Traceback (most recent call last)",
      "Cell \u001b[1;32mIn[15], line 12\u001b[0m\n\u001b[0;32m      9\u001b[0m london_rating_count \u001b[38;5;241m=\u001b[39m establishments\u001b[38;5;241m.\u001b[39mcount_documents(london_rating_query)\n\u001b[0;32m     11\u001b[0m \u001b[38;5;66;03m# Display the first document in the results using pprint\u001b[39;00m\n\u001b[1;32m---> 12\u001b[0m first_london_rating \u001b[38;5;241m=\u001b[39m \u001b[38;5;28mnext\u001b[39m(london_rating_establishments)\n\u001b[0;32m     13\u001b[0m pprint(first_london_rating)\n",
      "File \u001b[1;32m~\\Python\\Lib\\site-packages\\pymongo\\cursor.py:1246\u001b[0m, in \u001b[0;36mCursor.next\u001b[1;34m(self)\u001b[0m\n\u001b[0;32m   1244\u001b[0m     \u001b[38;5;28;01mreturn\u001b[39;00m \u001b[38;5;28mself\u001b[39m\u001b[38;5;241m.\u001b[39m__data\u001b[38;5;241m.\u001b[39mpopleft()\n\u001b[0;32m   1245\u001b[0m \u001b[38;5;28;01melse\u001b[39;00m:\n\u001b[1;32m-> 1246\u001b[0m     \u001b[38;5;28;01mraise\u001b[39;00m \u001b[38;5;167;01mStopIteration\u001b[39;00m\n",
      "\u001b[1;31mStopIteration\u001b[0m: "
     ]
    }
   ],
   "source": [
    "# Find the establishments with London as the Local Authority and has a RatingValue greater than or equal to 4.\n",
    "london_rating_query = {\n",
    "    \"LocalAuthorityName\": {\"$regex\": \"London\", \"$options\": \"i\"},  # Case-insensitive regex for \"London\"\n",
    "    \"RatingValue\": {\"$gte\": 4}\n",
    "}\n",
    "london_rating_establishments = establishments.find(london_rating_query)\n",
    "\n",
    "# Use count_documents to display the number of documents in the result\n",
    "london_rating_count = establishments.count_documents(london_rating_query)\n",
    "\n",
    "# Display the first document in the results using pprint\n",
    "first_london_rating = next(london_rating_establishments)\n",
    "pprint(first_london_rating)"
   ]
  },
  {
   "cell_type": "code",
   "execution_count": 16,
   "id": "07e24ccb",
   "metadata": {},
   "outputs": [
    {
     "name": "stdout",
     "output_type": "stream",
     "text": [
      "Number of rows in the DataFrame: 0\n",
      "Empty DataFrame\n",
      "Columns: []\n",
      "Index: []\n"
     ]
    }
   ],
   "source": [
    "# Convert the result to a Pandas DataFrame\n",
    "london_rating_df = pd.DataFrame(list(london_rating_establishments))\n",
    "\n",
    "# Display the number of rows in the DataFrame\n",
    "print(f\"Number of rows in the DataFrame: {london_rating_df.shape[0]}\")\n",
    "\n",
    "# Display the first 10 rows of the DataFrame\n",
    "print(london_rating_df.head(10))"
   ]
  },
  {
   "attachments": {},
   "cell_type": "markdown",
   "id": "4e570caf",
   "metadata": {},
   "source": [
    "### 3. What are the top 5 establishments with a `RatingValue` rating value of 5, sorted by lowest hygiene score, nearest to the new restaurant added, \"Penang Flavours\"?"
   ]
  },
  {
   "cell_type": "code",
   "execution_count": 17,
   "id": "7f599f3d",
   "metadata": {},
   "outputs": [
    {
     "ename": "NameError",
     "evalue": "name 'penang_flavours_coords' is not defined",
     "output_type": "error",
     "traceback": [
      "\u001b[1;31m---------------------------------------------------------------------------\u001b[0m",
      "\u001b[1;31mNameError\u001b[0m                                 Traceback (most recent call last)",
      "Cell \u001b[1;32mIn[17], line 6\u001b[0m\n\u001b[0;32m      1\u001b[0m \u001b[38;5;66;03m# Search within 0.01 degree on either side of the latitude and longitude.\u001b[39;00m\n\u001b[0;32m      2\u001b[0m \u001b[38;5;66;03m# Rating value must equal 5\u001b[39;00m\n\u001b[0;32m      3\u001b[0m \u001b[38;5;66;03m# Sort by hygiene score\u001b[39;00m\n\u001b[0;32m      5\u001b[0m degree_search \u001b[38;5;241m=\u001b[39m \u001b[38;5;241m0.01\u001b[39m\n\u001b[1;32m----> 6\u001b[0m latitude \u001b[38;5;241m=\u001b[39m penang_flavours_coords[\u001b[38;5;124m\"\u001b[39m\u001b[38;5;124mlatitude\u001b[39m\u001b[38;5;124m\"\u001b[39m]\n\u001b[0;32m      7\u001b[0m longitude \u001b[38;5;241m=\u001b[39m penang_flavours_coords[\u001b[38;5;124m\"\u001b[39m\u001b[38;5;124mlongitude\u001b[39m\u001b[38;5;124m\"\u001b[39m]\n\u001b[0;32m      9\u001b[0m query \u001b[38;5;241m=\u001b[39m {\n\u001b[0;32m     10\u001b[0m     \u001b[38;5;124m\"\u001b[39m\u001b[38;5;124mRatingValue\u001b[39m\u001b[38;5;124m\"\u001b[39m: \u001b[38;5;241m5\u001b[39m,\n\u001b[0;32m     11\u001b[0m     \u001b[38;5;124m\"\u001b[39m\u001b[38;5;124mgeocode.latitude\u001b[39m\u001b[38;5;124m\"\u001b[39m: {\u001b[38;5;124m\"\u001b[39m\u001b[38;5;124m$gte\u001b[39m\u001b[38;5;124m\"\u001b[39m: latitude \u001b[38;5;241m-\u001b[39m degree_search, \u001b[38;5;124m\"\u001b[39m\u001b[38;5;124m$lte\u001b[39m\u001b[38;5;124m\"\u001b[39m: latitude \u001b[38;5;241m+\u001b[39m degree_search},\n\u001b[0;32m     12\u001b[0m     \u001b[38;5;124m\"\u001b[39m\u001b[38;5;124mgeocode.longitude\u001b[39m\u001b[38;5;124m\"\u001b[39m: {\u001b[38;5;124m\"\u001b[39m\u001b[38;5;124m$gte\u001b[39m\u001b[38;5;124m\"\u001b[39m: longitude \u001b[38;5;241m-\u001b[39m degree_search, \u001b[38;5;124m\"\u001b[39m\u001b[38;5;124m$lte\u001b[39m\u001b[38;5;124m\"\u001b[39m: longitude \u001b[38;5;241m+\u001b[39m degree_search}\n\u001b[0;32m     13\u001b[0m }\n",
      "\u001b[1;31mNameError\u001b[0m: name 'penang_flavours_coords' is not defined"
     ]
    }
   ],
   "source": [
    "# Search within 0.01 degree on either side of the latitude and longitude.\n",
    "# Rating value must equal 5\n",
    "# Sort by hygiene score\n",
    "\n",
    "degree_search = 0.01\n",
    "latitude = penang_flavours_coords[\"latitude\"]\n",
    "longitude = penang_flavours_coords[\"longitude\"]\n",
    "\n",
    "query = {\n",
    "    \"RatingValue\": 5,\n",
    "    \"geocode.latitude\": {\"$gte\": latitude - degree_search, \"$lte\": latitude + degree_search},\n",
    "    \"geocode.longitude\": {\"$gte\": longitude - degree_search, \"$lte\": longitude + degree_search}\n",
    "}\n",
    "sort = [(\"scores.Hygiene\", 1)] \n",
    "limit = 5\n",
    "\n",
    "# Print the results\n",
    "for result in results:\n",
    "    pprint(result)"
   ]
  },
  {
   "cell_type": "code",
   "execution_count": 18,
   "id": "a6ad16f7",
   "metadata": {},
   "outputs": [
    {
     "ename": "NameError",
     "evalue": "name 'results' is not defined",
     "output_type": "error",
     "traceback": [
      "\u001b[1;31m---------------------------------------------------------------------------\u001b[0m",
      "\u001b[1;31mNameError\u001b[0m                                 Traceback (most recent call last)",
      "Cell \u001b[1;32mIn[18], line 2\u001b[0m\n\u001b[0;32m      1\u001b[0m \u001b[38;5;66;03m# Convert result to Pandas DataFrame\u001b[39;00m\n\u001b[1;32m----> 2\u001b[0m results_list \u001b[38;5;241m=\u001b[39m \u001b[38;5;28mlist\u001b[39m(results)\n\u001b[0;32m      3\u001b[0m df \u001b[38;5;241m=\u001b[39m pd\u001b[38;5;241m.\u001b[39mDataFrame(results_list)\n\u001b[0;32m      5\u001b[0m \u001b[38;5;28mprint\u001b[39m(df\u001b[38;5;241m.\u001b[39mhead())\n",
      "\u001b[1;31mNameError\u001b[0m: name 'results' is not defined"
     ]
    }
   ],
   "source": [
    "# Convert result to Pandas DataFrame\n",
    "results_list = list(results)\n",
    "df = pd.DataFrame(results_list)\n",
    "\n",
    "print(df.head())"
   ]
  },
  {
   "cell_type": "markdown",
   "id": "67281254",
   "metadata": {},
   "source": [
    "### 4. How many establishments in each Local Authority area have a hygiene score of 0?"
   ]
  },
  {
   "cell_type": "code",
   "execution_count": 19,
   "id": "4eeb227e",
   "metadata": {},
   "outputs": [
    {
     "name": "stdout",
     "output_type": "stream",
     "text": [
      "Number of Local Authorities with hygiene score of 0: 0\n",
      "[]\n"
     ]
    }
   ],
   "source": [
    "# Create a pipeline that:\n",
    "# 1. Matches establishments with a hygiene score of 0\n",
    "# 2. Groups the matches by Local Authority\n",
    "# 3. Sorts the matches from highest to lowest\n",
    "pipeline = [\n",
    "    {\"$match\": {\"scores.Hygiene\": 0}},\n",
    "    {\"$group\": {\n",
    "        \"_id\": \"$LocalAuthorityName\",\n",
    "        \"count\": {\"$sum\": 1}\n",
    "    }},\n",
    "    \n",
    "    {\"$sort\": {\"count\": -1}}\n",
    "]\n",
    "\n",
    "result = establishments.aggregate(pipeline)\n",
    "result_list = list(result)\n",
    "\n",
    "# Print the number of documents in the result\n",
    "print(f\"Number of Local Authorities with hygiene score of 0: {len(result_list)}\")\n",
    "\n",
    "# Print the first 10 results\n",
    "pprint(result_list[:10])"
   ]
  },
  {
   "cell_type": "code",
   "execution_count": 20,
   "id": "d8aab364",
   "metadata": {},
   "outputs": [
    {
     "name": "stdout",
     "output_type": "stream",
     "text": [
      "Number of rows in the DataFrame: 0\n",
      "Empty DataFrame\n",
      "Columns: []\n",
      "Index: []\n"
     ]
    }
   ],
   "source": [
    "# Convert the result to a Pandas DataFrame\n",
    "df = pd.DataFrame(result_list)\n",
    "\n",
    "# Display the number of rows in the DataFrame\n",
    "print(f\"Number of rows in the DataFrame: {df.shape[0]}\")\n",
    "\n",
    "# Display the first 10 rows of the DataFrame\n",
    "print(df.head(10))\n"
   ]
  },
  {
   "cell_type": "code",
   "execution_count": null,
   "id": "009ef5c8-40eb-4aa0-ba01-2e4789e36873",
   "metadata": {},
   "outputs": [],
   "source": []
  }
 ],
 "metadata": {
  "kernelspec": {
   "display_name": "Python 3 (ipykernel)",
   "language": "python",
   "name": "python3"
  },
  "language_info": {
   "codemirror_mode": {
    "name": "ipython",
    "version": 3
   },
   "file_extension": ".py",
   "mimetype": "text/x-python",
   "name": "python",
   "nbconvert_exporter": "python",
   "pygments_lexer": "ipython3",
   "version": "3.12.4"
  }
 },
 "nbformat": 4,
 "nbformat_minor": 5
}
